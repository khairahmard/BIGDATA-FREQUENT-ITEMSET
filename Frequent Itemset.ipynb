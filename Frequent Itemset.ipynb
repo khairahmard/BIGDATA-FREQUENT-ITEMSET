{
 "cells": [
  {
   "cell_type": "markdown",
   "metadata": {},
   "source": [
    "## Inisialisasi Spark"
   ]
  },
  {
   "cell_type": "code",
   "execution_count": 1,
   "metadata": {},
   "outputs": [],
   "source": [
    "import findspark\n",
    "findspark.init()\n",
    "\n",
    "from pyspark.sql import SparkSession\n",
    "spark = SparkSession \\\n",
    "    .builder \\\n",
    "    .appName(\"Python Frequent Itemsets\") \\\n",
    "    .getOrCreate()"
   ]
  },
  {
   "cell_type": "markdown",
   "metadata": {},
   "source": [
    "## Import Dataset"
   ]
  },
  {
   "cell_type": "code",
   "execution_count": 2,
   "metadata": {},
   "outputs": [],
   "source": [
    "df = spark.read.csv(\"D:/Spark/Tugas 3/data.csv\", header=True, inferSchema=True)"
   ]
  },
  {
   "cell_type": "code",
   "execution_count": 3,
   "metadata": {},
   "outputs": [
    {
     "name": "stdout",
     "output_type": "stream",
     "text": [
      "+---------+---------+--------------------+--------+--------------+---------+----------+--------------+\n",
      "|InvoiceNo|StockCode|         Description|Quantity|   InvoiceDate|UnitPrice|CustomerID|       Country|\n",
      "+---------+---------+--------------------+--------+--------------+---------+----------+--------------+\n",
      "|   536365|   85123A|WHITE HANGING HEA...|       6|12/1/2010 8:26|     2.55|     17850|United Kingdom|\n",
      "|   536365|    71053| WHITE METAL LANTERN|       6|12/1/2010 8:26|     3.39|     17850|United Kingdom|\n",
      "|   536365|   84406B|CREAM CUPID HEART...|       8|12/1/2010 8:26|     2.75|     17850|United Kingdom|\n",
      "|   536365|   84029G|KNITTED UNION FLA...|       6|12/1/2010 8:26|     3.39|     17850|United Kingdom|\n",
      "|   536365|   84029E|RED WOOLLY HOTTIE...|       6|12/1/2010 8:26|     3.39|     17850|United Kingdom|\n",
      "|   536365|    22752|SET 7 BABUSHKA NE...|       2|12/1/2010 8:26|     7.65|     17850|United Kingdom|\n",
      "|   536365|    21730|GLASS STAR FROSTE...|       6|12/1/2010 8:26|     4.25|     17850|United Kingdom|\n",
      "|   536366|    22633|HAND WARMER UNION...|       6|12/1/2010 8:28|     1.85|     17850|United Kingdom|\n",
      "|   536366|    22632|HAND WARMER RED P...|       6|12/1/2010 8:28|     1.85|     17850|United Kingdom|\n",
      "|   536367|    84879|ASSORTED COLOUR B...|      32|12/1/2010 8:34|     1.69|     13047|United Kingdom|\n",
      "|   536367|    22745|POPPY'S PLAYHOUSE...|       6|12/1/2010 8:34|      2.1|     13047|United Kingdom|\n",
      "|   536367|    22748|POPPY'S PLAYHOUSE...|       6|12/1/2010 8:34|      2.1|     13047|United Kingdom|\n",
      "|   536367|    22749|FELTCRAFT PRINCES...|       8|12/1/2010 8:34|     3.75|     13047|United Kingdom|\n",
      "|   536367|    22310|IVORY KNITTED MUG...|       6|12/1/2010 8:34|     1.65|     13047|United Kingdom|\n",
      "|   536367|    84969|BOX OF 6 ASSORTED...|       6|12/1/2010 8:34|     4.25|     13047|United Kingdom|\n",
      "|   536367|    22623|BOX OF VINTAGE JI...|       3|12/1/2010 8:34|     4.95|     13047|United Kingdom|\n",
      "|   536367|    22622|BOX OF VINTAGE AL...|       2|12/1/2010 8:34|     9.95|     13047|United Kingdom|\n",
      "|   536367|    21754|HOME BUILDING BLO...|       3|12/1/2010 8:34|     5.95|     13047|United Kingdom|\n",
      "|   536367|    21755|LOVE BUILDING BLO...|       3|12/1/2010 8:34|     5.95|     13047|United Kingdom|\n",
      "|   536367|    21777|RECIPE BOX WITH M...|       4|12/1/2010 8:34|     7.95|     13047|United Kingdom|\n",
      "+---------+---------+--------------------+--------+--------------+---------+----------+--------------+\n",
      "only showing top 20 rows\n",
      "\n"
     ]
    }
   ],
   "source": [
    "df.show()"
   ]
  },
  {
   "cell_type": "code",
   "execution_count": 4,
   "metadata": {},
   "outputs": [],
   "source": [
    "#Pilih kolom untuk backup\n",
    "backup = df.selectExpr(['InvoiceNo as ID', 'StockCode as Item', 'Description'])"
   ]
  },
  {
   "cell_type": "code",
   "execution_count": 5,
   "metadata": {},
   "outputs": [],
   "source": [
    "#Pilih kolom untuk di train\n",
    "df = df.selectExpr(['InvoiceNo as ID', 'StockCode as Item'])"
   ]
  },
  {
   "cell_type": "code",
   "execution_count": 6,
   "metadata": {},
   "outputs": [
    {
     "name": "stdout",
     "output_type": "stream",
     "text": [
      "+------+------+\n",
      "|    ID|  Item|\n",
      "+------+------+\n",
      "|536365|85123A|\n",
      "|536365| 71053|\n",
      "|536365|84406B|\n",
      "|536365|84029G|\n",
      "|536365|84029E|\n",
      "|536365| 22752|\n",
      "|536365| 21730|\n",
      "|536366| 22633|\n",
      "|536366| 22632|\n",
      "|536367| 84879|\n",
      "|536367| 22745|\n",
      "|536367| 22748|\n",
      "|536367| 22749|\n",
      "|536367| 22310|\n",
      "|536367| 84969|\n",
      "|536367| 22623|\n",
      "|536367| 22622|\n",
      "|536367| 21754|\n",
      "|536367| 21755|\n",
      "|536367| 21777|\n",
      "+------+------+\n",
      "only showing top 20 rows\n",
      "\n"
     ]
    }
   ],
   "source": [
    "df.show()"
   ]
  },
  {
   "cell_type": "code",
   "execution_count": 7,
   "metadata": {},
   "outputs": [
    {
     "name": "stdout",
     "output_type": "stream",
     "text": [
      "root\n",
      " |-- ID: string (nullable = true)\n",
      " |-- Item: string (nullable = true)\n",
      "\n"
     ]
    }
   ],
   "source": [
    "df.printSchema()"
   ]
  },
  {
   "cell_type": "markdown",
   "metadata": {},
   "source": [
    "## Grouping dan Menghilangkan Duplikasi"
   ]
  },
  {
   "cell_type": "code",
   "execution_count": 8,
   "metadata": {},
   "outputs": [],
   "source": [
    "#Grouping\n",
    "from pyspark.sql import functions\n",
    "\n",
    "df2 = df.groupby(\"ID\").agg(functions.collect_set(\"Item\").alias('Items'))"
   ]
  },
  {
   "cell_type": "code",
   "execution_count": 9,
   "metadata": {},
   "outputs": [
    {
     "name": "stdout",
     "output_type": "stream",
     "text": [
      "+------+--------------------+\n",
      "|    ID|               Items|\n",
      "+------+--------------------+\n",
      "|536596|[22900, 22114, 84...|\n",
      "|536938|[22112, 21931, 84...|\n",
      "|537252|             [22197]|\n",
      "|537691|[22505, 46000R, 2...|\n",
      "|538041|             [22145]|\n",
      "|538184|[22561, 22147, 21...|\n",
      "|538517|[22749, 21212, 22...|\n",
      "|538879|[21212, 22759, 22...|\n",
      "|539275|[22083, 22150, 22...|\n",
      "|539630|[22111, 22971, 22...|\n",
      "|540499|[22697, 22796, 21...|\n",
      "|540540|[22111, 22834, 22...|\n",
      "|540976|[22413, 21212, 22...|\n",
      "|541432|[22113, 22457, 21...|\n",
      "|541518|[21212, 22432, 22...|\n",
      "|541783|[22561, 22697, 22...|\n",
      "|542026|[22398, 22194, 22...|\n",
      "|542375|[22629, 21731, 22...|\n",
      "|543641|[22645, 75131, 22...|\n",
      "|544303|[84596L, 22931, 8...|\n",
      "+------+--------------------+\n",
      "only showing top 20 rows\n",
      "\n"
     ]
    }
   ],
   "source": [
    "df2.show()"
   ]
  },
  {
   "cell_type": "code",
   "execution_count": 10,
   "metadata": {},
   "outputs": [],
   "source": [
    "#Menghilangkan duplikasi\n",
    "\n",
    "from pyspark.sql.types import ArrayType, StringType\n",
    "from pyspark.sql.functions import udf\n",
    "\n",
    "df_distinct = udf(lambda row: list(set(row)), ArrayType(StringType()))\n",
    "df2 = df2.withColumn(\"items_clear\", df_distinct(\"Items\"))"
   ]
  },
  {
   "cell_type": "code",
   "execution_count": 11,
   "metadata": {},
   "outputs": [
    {
     "name": "stdout",
     "output_type": "stream",
     "text": [
      "+------+--------------------+--------------------+\n",
      "|    ID|               Items|         items_clear|\n",
      "+------+--------------------+--------------------+\n",
      "|536596|[22900, 22114, 84...|[84926A, 21624, 2...|\n",
      "|536938|[22112, 21931, 84...|[21479, 84997B, 2...|\n",
      "|537252|             [22197]|             [22197]|\n",
      "|537691|[22505, 46000R, 2...|[22149, 20975, 22...|\n",
      "|538041|             [22145]|             [22145]|\n",
      "|538184|[22561, 22147, 21...|[22492, 22561, 48...|\n",
      "|538517|[22749, 21212, 22...|[22197, 22844, 22...|\n",
      "|538879|[21212, 22759, 22...|[22983, 22593, 22...|\n",
      "|539275|[22083, 22150, 22...|[22423, 21914, 22...|\n",
      "|539630|[22111, 22971, 22...|[22988, 84347, 22...|\n",
      "|540499|[22697, 22796, 21...|[21755, 22699, 84...|\n",
      "|540540|[22111, 22834, 22...|[22555, 22551, 22...|\n",
      "|540976|[22413, 21212, 22...|[21110, 22207, 84...|\n",
      "|541432|[22113, 22457, 21...|[22113, 22457, 21...|\n",
      "|541518|[21212, 22432, 22...|[20724, 21982, 20...|\n",
      "|541783|[22561, 22697, 22...|[22197, 22961, 84...|\n",
      "|542026|[22398, 22194, 22...|[22197, 22398, 22...|\n",
      "|542375|[22629, 21731, 22...|[22367, 22629, 21...|\n",
      "|543641|[22645, 75131, 22...|[22371, 44265, 21...|\n",
      "|544303|[84596L, 22931, 8...|[20856, 22197, 20...|\n",
      "+------+--------------------+--------------------+\n",
      "only showing top 20 rows\n",
      "\n"
     ]
    }
   ],
   "source": [
    "df2.show()"
   ]
  },
  {
   "cell_type": "code",
   "execution_count": 12,
   "metadata": {},
   "outputs": [
    {
     "name": "stdout",
     "output_type": "stream",
     "text": [
      "root\n",
      " |-- ID: string (nullable = true)\n",
      " |-- Items: array (nullable = true)\n",
      " |    |-- element: string (containsNull = true)\n",
      " |-- items_clear: array (nullable = true)\n",
      " |    |-- element: string (containsNull = true)\n",
      "\n"
     ]
    }
   ],
   "source": [
    "df2.printSchema()"
   ]
  },
  {
   "cell_type": "markdown",
   "metadata": {},
   "source": [
    "## FP Growth"
   ]
  },
  {
   "cell_type": "code",
   "execution_count": 13,
   "metadata": {},
   "outputs": [],
   "source": [
    "from pyspark.ml.fpm import FPGrowth"
   ]
  },
  {
   "cell_type": "code",
   "execution_count": 14,
   "metadata": {},
   "outputs": [],
   "source": [
    "fpGrowth = FPGrowth(itemsCol=\"items_clear\", minSupport=0.3, minConfidence=0.75)\n",
    "model = fpGrowth.fit(df2)"
   ]
  },
  {
   "cell_type": "code",
   "execution_count": 15,
   "metadata": {},
   "outputs": [
    {
     "name": "stdout",
     "output_type": "stream",
     "text": [
      "+-----+----+\n",
      "|items|freq|\n",
      "+-----+----+\n",
      "+-----+----+\n",
      "\n"
     ]
    }
   ],
   "source": [
    "model.freqItemsets.show()"
   ]
  },
  {
   "cell_type": "code",
   "execution_count": 16,
   "metadata": {},
   "outputs": [
    {
     "name": "stdout",
     "output_type": "stream",
     "text": [
      "+----------+----------+----------+\n",
      "|antecedent|consequent|confidence|\n",
      "+----------+----------+----------+\n",
      "+----------+----------+----------+\n",
      "\n"
     ]
    }
   ],
   "source": [
    "model.associationRules.show()"
   ]
  },
  {
   "cell_type": "markdown",
   "metadata": {},
   "source": [
    "Karena hasilnya null maka lakukan fp growth lagi dengan nilai minimun support dan minimum confidence yang berbeda"
   ]
  },
  {
   "cell_type": "code",
   "execution_count": 17,
   "metadata": {},
   "outputs": [],
   "source": [
    "fpGrowth2 = FPGrowth(itemsCol=\"items_clear\", minSupport=0.05, minConfidence=0.5)\n",
    "model2 = fpGrowth2.fit(df2)"
   ]
  },
  {
   "cell_type": "code",
   "execution_count": 18,
   "metadata": {},
   "outputs": [
    {
     "name": "stdout",
     "output_type": "stream",
     "text": [
      "+--------+----+\n",
      "|   items|freq|\n",
      "+--------+----+\n",
      "|[85123A]|2246|\n",
      "| [22423]|2172|\n",
      "|[85099B]|2135|\n",
      "| [47566]|1706|\n",
      "| [20725]|1608|\n",
      "| [84879]|1468|\n",
      "| [22720]|1462|\n",
      "| [22197]|1442|\n",
      "| [21212]|1334|\n",
      "| [22383]|1306|\n",
      "| [20727]|1295|\n",
      "+--------+----+\n",
      "\n"
     ]
    }
   ],
   "source": [
    "model2.freqItemsets.show()"
   ]
  },
  {
   "cell_type": "code",
   "execution_count": 19,
   "metadata": {},
   "outputs": [
    {
     "name": "stdout",
     "output_type": "stream",
     "text": [
      "+----------+----------+----------+\n",
      "|antecedent|consequent|confidence|\n",
      "+----------+----------+----------+\n",
      "+----------+----------+----------+\n",
      "\n"
     ]
    }
   ],
   "source": [
    "model2.associationRules.show()"
   ]
  },
  {
   "cell_type": "markdown",
   "metadata": {},
   "source": [
    "Walaupun terdapat nilai frekuensinya namun karena hasil confidencenya null maka lakukan fp growth lagi dengan nilai minimun support dan minimum confidence yang lebih rendah lagi"
   ]
  },
  {
   "cell_type": "code",
   "execution_count": 20,
   "metadata": {},
   "outputs": [],
   "source": [
    "fpGrowth3 = FPGrowth(itemsCol=\"items_clear\", minSupport=0.025, minConfidence=0.25)\n",
    "model3 = fpGrowth3.fit(df2)"
   ]
  },
  {
   "cell_type": "code",
   "execution_count": 21,
   "metadata": {},
   "outputs": [
    {
     "name": "stdout",
     "output_type": "stream",
     "text": [
      "+---------------+----+\n",
      "|          items|freq|\n",
      "+---------------+----+\n",
      "|       [85123A]|2246|\n",
      "|        [22423]|2172|\n",
      "|       [85099B]|2135|\n",
      "|        [47566]|1706|\n",
      "|        [20725]|1608|\n",
      "|        [84879]|1468|\n",
      "|        [22720]|1462|\n",
      "|        [22197]|1442|\n",
      "|        [21212]|1334|\n",
      "|        [22383]|1306|\n",
      "| [22383, 20725]| 663|\n",
      "|        [20727]|1295|\n",
      "| [20727, 20725]| 648|\n",
      "|        [22457]|1266|\n",
      "|         [POST]|1254|\n",
      "|        [23203]|1249|\n",
      "|        [22386]|1231|\n",
      "|[22386, 85099B]| 833|\n",
      "|        [22960]|1220|\n",
      "|        [22469]|1214|\n",
      "+---------------+----+\n",
      "only showing top 20 rows\n",
      "\n"
     ]
    }
   ],
   "source": [
    "model3.freqItemsets.show()"
   ]
  },
  {
   "cell_type": "code",
   "execution_count": 22,
   "metadata": {},
   "outputs": [
    {
     "name": "stdout",
     "output_type": "stream",
     "text": [
      "+----------+----------+-------------------+\n",
      "|antecedent|consequent|         confidence|\n",
      "+----------+----------+-------------------+\n",
      "|   [22699]|   [22697]|                0.7|\n",
      "|   [22386]|  [85099B]| 0.6766856214459789|\n",
      "|   [20727]|   [20725]| 0.5003861003861004|\n",
      "|   [20725]|   [22383]| 0.4123134328358209|\n",
      "|   [20725]|   [20727]|0.40298507462686567|\n",
      "|  [85099B]|   [22386]| 0.3901639344262295|\n",
      "|  [85099B]|   [21931]| 0.3433255269320843|\n",
      "|  [85099B]|   [22411]| 0.3199063231850117|\n",
      "|   [22411]|  [85099B]| 0.5754001684919966|\n",
      "|   [22383]|   [20725]| 0.5076569678407351|\n",
      "|   [21931]|  [85099B]| 0.6103247293921732|\n",
      "|   [22697]|   [22699]| 0.7417218543046358|\n",
      "+----------+----------+-------------------+\n",
      "\n"
     ]
    }
   ],
   "source": [
    "model3.associationRules.show()"
   ]
  },
  {
   "cell_type": "code",
   "execution_count": 23,
   "metadata": {},
   "outputs": [],
   "source": [
    "dataframe=spark.createDataFrame([\n",
    "            ('0',['22386'])\n",
    "        ],['ID','items_clear'])"
   ]
  },
  {
   "cell_type": "code",
   "execution_count": 24,
   "metadata": {},
   "outputs": [
    {
     "name": "stdout",
     "output_type": "stream",
     "text": [
      "+---+-----------+\n",
      "| ID|items_clear|\n",
      "+---+-----------+\n",
      "|  0|    [22386]|\n",
      "+---+-----------+\n",
      "\n"
     ]
    }
   ],
   "source": [
    "dataframe.show()"
   ]
  },
  {
   "cell_type": "code",
   "execution_count": 25,
   "metadata": {},
   "outputs": [
    {
     "name": "stdout",
     "output_type": "stream",
     "text": [
      "+---+-----------+----------+\n",
      "| ID|items_clear|prediction|\n",
      "+---+-----------+----------+\n",
      "|  0|    [22386]|  [85099B]|\n",
      "+---+-----------+----------+\n",
      "\n"
     ]
    }
   ],
   "source": [
    "model3.transform(dataframe).show()"
   ]
  },
  {
   "cell_type": "markdown",
   "metadata": {},
   "source": [
    "## Kesimpulan"
   ]
  },
  {
   "cell_type": "code",
   "execution_count": 27,
   "metadata": {},
   "outputs": [],
   "source": [
    "backup.createOrReplaceTempView(\"ecommerce\")"
   ]
  },
  {
   "cell_type": "code",
   "execution_count": 29,
   "metadata": {},
   "outputs": [
    {
     "name": "stdout",
     "output_type": "stream",
     "text": [
      "+--------------------+\n",
      "|         Description|\n",
      "+--------------------+\n",
      "|JUMBO BAG PINK PO...|\n",
      "+--------------------+\n",
      "\n"
     ]
    }
   ],
   "source": [
    "#cari deskripsi StockCode 22386\n",
    "query=spark.sql(\"SELECT DISTINCT Description FROM ecommerce WHERE Item = '22386'\")\n",
    "query.show()"
   ]
  },
  {
   "cell_type": "code",
   "execution_count": 30,
   "metadata": {},
   "outputs": [
    {
     "name": "stdout",
     "output_type": "stream",
     "text": [
      "+--------------------+\n",
      "|         Description|\n",
      "+--------------------+\n",
      "|JUMBO BAG RED RET...|\n",
      "+--------------------+\n",
      "\n"
     ]
    }
   ],
   "source": [
    "#cari deskripsi StockCode 85099B\n",
    "query2=spark.sql(\"SELECT DISTINCT Description FROM ecommerce WHERE Item = '85099B'\")\n",
    "query2.show()"
   ]
  },
  {
   "cell_type": "markdown",
   "metadata": {},
   "source": [
    "## Kesimpulan"
   ]
  },
  {
   "cell_type": "markdown",
   "metadata": {},
   "source": [
    "Saat seseorang membeli JUMBO BAG PINK POLKADOT, mereka juga biasanya membeli JUMBO BAG RED RETROSPOT"
   ]
  }
 ],
 "metadata": {
  "kernelspec": {
   "display_name": "Python 3",
   "language": "python",
   "name": "python3"
  },
  "language_info": {
   "codemirror_mode": {
    "name": "ipython",
    "version": 3
   },
   "file_extension": ".py",
   "mimetype": "text/x-python",
   "name": "python",
   "nbconvert_exporter": "python",
   "pygments_lexer": "ipython3",
   "version": "3.6.4"
  }
 },
 "nbformat": 4,
 "nbformat_minor": 2
}
